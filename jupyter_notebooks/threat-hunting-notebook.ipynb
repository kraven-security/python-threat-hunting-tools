{
 "cells": [
  {
   "attachments": {},
   "cell_type": "markdown",
   "metadata": {},
   "source": [
    "# My Title\n",
    "\n",
    "This Notebook will contain my Python threat hunting tools."
   ]
  },
  {
   "attachments": {},
   "cell_type": "markdown",
   "metadata": {},
   "source": [
    "### Malicious IP Address Checker\n",
    "\n",
    "This tool checks if an IP address it malicious. To add an IP address to check, change the IP variable and run the cell."
   ]
  },
  {
   "cell_type": "code",
   "execution_count": 1,
   "metadata": {},
   "outputs": [
    {
     "name": "stdout",
     "output_type": "stream",
     "text": [
      "\n",
      "=> The IP address 171.61.223.122 has been identified as malicious by Malitverse\n",
      "\n"
     ]
    }
   ],
   "source": [
    "from maltiverse import Maltiverse\n",
    "\n",
    "IP = \"171.61.223.122\"\n",
    "\n",
    "api = Maltiverse()\n",
    "result = api.ip_get(IP)\n",
    "try:\n",
    "    # print the 'classficiation' of the IP address\n",
    "    print(f\"\\n=> The IP address {IP} has been identified as {result['classification']} by Malitverse\\n\")\n",
    "except KeyError:\n",
    "    # no classficiation avaliable from Maltiverse\n",
    "    print(f\"\\n - The IP address {IP} cannot be classified by Malitverse\\n\")"
   ]
  },
  {
   "attachments": {},
   "cell_type": "markdown",
   "metadata": {},
   "source": [
    "### Malicious IP Address Checker 2\n",
    "\n",
    "This tool checks if an IP address it malicious. To add an IP address to check, change the IP variable and run the cell."
   ]
  },
  {
   "cell_type": "code",
   "execution_count": null,
   "metadata": {},
   "outputs": [],
   "source": [
    "import interacting_with_apis.maltiverse_web_ip_lookup as ip_checker\n",
    "\n",
    "IP = \"171.61.223.122\"\n",
    "ip_checker.run(IP)"
   ]
  }
 ],
 "metadata": {
  "kernelspec": {
   "display_name": "Python 3",
   "language": "python",
   "name": "python3"
  },
  "language_info": {
   "codemirror_mode": {
    "name": "ipython",
    "version": 3
   },
   "file_extension": ".py",
   "mimetype": "text/x-python",
   "name": "python",
   "nbconvert_exporter": "python",
   "pygments_lexer": "ipython3",
   "version": "3.11.3"
  },
  "orig_nbformat": 4
 },
 "nbformat": 4,
 "nbformat_minor": 2
}
